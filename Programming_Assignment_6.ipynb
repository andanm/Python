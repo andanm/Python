{
 "cells": [
  {
   "cell_type": "markdown",
   "metadata": {
    "id": "Sh8a1zAajW9q"
   },
   "source": [
    "1. Write a Python Program to Display Fibonacci Sequence using Recursion ?"
   ]
  },
  {
   "cell_type": "code",
   "execution_count": 3,
   "metadata": {
    "colab": {
     "base_uri": "https://localhost:8080/"
    },
    "id": "o1icUl13jZcq",
    "outputId": "bc80fe63-b1f9-436f-d940-d060d030471a"
   },
   "outputs": [
    {
     "name": "stdout",
     "output_type": "stream",
     "text": [
      "Enter number of terms 10\n",
      "Fibonacci Sequence\n",
      "1,1,2,3,5,8,13,21,34,55,"
     ]
    }
   ],
   "source": [
    "def fib_seq(n):\n",
    "    if n<=1:\n",
    "        return 1\n",
    "    else:\n",
    "        return(fib_seq(n-1)+fib_seq(n-2))\n",
    "nterm= int(input(\"Enter number of terms\"))\n",
    "if nterm<=0:\n",
    "    print(\"Enter the postive integer\")\n",
    "else:\n",
    "    print(\"Fibonacci Sequence\")\n",
    "    for i in range(nterm):\n",
    "        print(fib_seq(i),end= \",\")\n",
    "   \n",
    "  "
   ]
  },
  {
   "cell_type": "markdown",
   "metadata": {
    "id": "tPRxwx7wnbLI"
   },
   "source": [
    "2. Write a Python Program to Find Factorial of a Number using Recursion ?"
   ]
  },
  {
   "cell_type": "code",
   "execution_count": 4,
   "metadata": {
    "colab": {
     "base_uri": "https://localhost:8080/"
    },
    "id": "H9Ys7OCMnbwd",
    "outputId": "e3a88499-09f6-45a7-de7f-52e9b28eaeb0"
   },
   "outputs": [
    {
     "name": "stdout",
     "output_type": "stream",
     "text": [
      "Enter the number 7\n",
      "The factorial of 7 is 5040\n"
     ]
    }
   ],
   "source": [
    "def fact_number(n):\n",
    "    if n<=1:\n",
    "        return 1\n",
    "    else:\n",
    "        return n*fact_number(n-1)\n",
    "num= int(input(\"Enter the number\"))\n",
    "if num<0:\n",
    "    print(\"Enter postive number\")\n",
    "elif num==0:\n",
    "    print(\"The factorial of 0 is 1\")\n",
    "else:\n",
    "    print(f\"The factorial of {num} is {fact_number(num)}\")"
   ]
  },
  {
   "cell_type": "markdown",
   "metadata": {
    "id": "2jx9Lhozp1U5"
   },
   "source": [
    "3. Write a Python Program to Calculate your Body Mass Index ?"
   ]
  },
  {
   "cell_type": "code",
   "execution_count": 6,
   "metadata": {
    "colab": {
     "base_uri": "https://localhost:8080/"
    },
    "id": "lcAEOj60p1_g",
    "outputId": "e803a060-c357-44fc-8483-826e560d6027"
   },
   "outputs": [
    {
     "name": "stdout",
     "output_type": "stream",
     "text": [
      "Enter the weight of the person in KGs 62\n",
      "Enter the height of the person in metres 1.55\n",
      "The BMI of person is 25.806451612903224\n"
     ]
    }
   ],
   "source": [
    "def BMI():\n",
    "    weight=float(input(\"Enter the weight of the person in KGs\"))\n",
    "    height= float(input(\"Enter the height of the person in metres\"))\n",
    "    BMI=weight/(height*height)\n",
    "    print(f\"The BMI of person is {BMI}\")\n",
    "\n",
    "BMI()"
   ]
  },
  {
   "cell_type": "markdown",
   "metadata": {
    "id": "1xpcM9KJrJED"
   },
   "source": [
    "4. Write a Python Program to Calculate the Natural Logarithm of any Number ?"
   ]
  },
  {
   "cell_type": "code",
   "execution_count": 7,
   "metadata": {
    "colab": {
     "base_uri": "https://localhost:8080/"
    },
    "id": "Qkfq4LG6rJ50",
    "outputId": "ef7b7e3e-2bfb-45cf-af42-36ebba30f0ac"
   },
   "outputs": [
    {
     "name": "stdout",
     "output_type": "stream",
     "text": [
      "Enter the number 14\n",
      "2.6390573296152584\n"
     ]
    }
   ],
   "source": [
    "import math\n",
    "def log():\n",
    "    n= int(input(\"Enter the number\"))\n",
    "    print(math.log(n))\n",
    "log()"
   ]
  },
  {
   "cell_type": "markdown",
   "metadata": {
    "id": "Z8wKXorxsRLW"
   },
   "source": [
    "5. Write a Python Program for Cube sum of first n Natural Numbers ?"
   ]
  },
  {
   "cell_type": "code",
   "execution_count": 8,
   "metadata": {
    "colab": {
     "base_uri": "https://localhost:8080/"
    },
    "id": "Sj5hSGF1sSlO",
    "outputId": "2bf5cf7c-af38-47ab-cbd2-a6d31257f4de"
   },
   "outputs": [
    {
     "name": "stdout",
     "output_type": "stream",
     "text": [
      "Enter the number 10\n"
     ]
    },
    {
     "data": {
      "text/plain": [
       "3025"
      ]
     },
     "execution_count": 8,
     "metadata": {},
     "output_type": "execute_result"
    }
   ],
   "source": [
    "def cube_number():\n",
    "    n= int(input(\"Enter the number\"))\n",
    "    sum=0\n",
    "    for i in range (1,n+1):\n",
    "        sum+= i*i*i\n",
    "    return sum\n",
    "cube_number()"
   ]
  },
  {
   "cell_type": "code",
   "execution_count": 30,
   "metadata": {
    "id": "jnJykxGQszwM"
   },
   "outputs": [],
   "source": []
  }
 ],
 "metadata": {
  "colab": {
   "collapsed_sections": [],
   "name": "Welcome To Colaboratory",
   "provenance": [],
   "toc_visible": true
  },
  "kernelspec": {
   "display_name": "Python 3 (ipykernel)",
   "language": "python",
   "name": "python3"
  },
  "language_info": {
   "codemirror_mode": {
    "name": "ipython",
    "version": 3
   },
   "file_extension": ".py",
   "mimetype": "text/x-python",
   "name": "python",
   "nbconvert_exporter": "python",
   "pygments_lexer": "ipython3",
   "version": "3.9.7"
  }
 },
 "nbformat": 4,
 "nbformat_minor": 1
}
