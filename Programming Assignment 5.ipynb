{
 "cells": [
  {
   "cell_type": "markdown",
   "metadata": {
    "id": "ljxxH1tkU6Fb"
   },
   "source": [
    "1. Write a Python Program to Find LCM?"
   ]
  },
  {
   "cell_type": "code",
   "execution_count": 1,
   "metadata": {
    "colab": {
     "base_uri": "https://localhost:8080/"
    },
    "id": "vZmhGUlNU7tp",
    "outputId": "59a8f665-0a32-479b-d04c-8d82bac65a7e"
   },
   "outputs": [
    {
     "name": "stdout",
     "output_type": "stream",
     "text": [
      "Enter the number24\n",
      "Enter the number36\n",
      "LCM of 24 and 36 is 72\n"
     ]
    }
   ],
   "source": [
    "x= int(input('Enter the number'))\n",
    "y= int(input('Enter the number'))\n",
    "\n",
    "if x>y:\n",
    "    greater=x\n",
    "else:\n",
    "    greater=y\n",
    "while(True):\n",
    "    if ((greater%x== 0) and (greater%y == 0)):\n",
    "        LCM=greater\n",
    "        break\n",
    "    greater+=1\n",
    "print(f'LCM of {x} and {y} is {LCM}')\n",
    "       "
   ]
  },
  {
   "cell_type": "markdown",
   "metadata": {
    "id": "ZV7f31U8Xf4V"
   },
   "source": [
    "2. Write a Python Program to Find HCF?"
   ]
  },
  {
   "cell_type": "code",
   "execution_count": 2,
   "metadata": {
    "colab": {
     "base_uri": "https://localhost:8080/"
    },
    "id": "w19D-iSoXi_G",
    "outputId": "b38f04a8-982a-4dcb-d855-7b02da854848"
   },
   "outputs": [
    {
     "name": "stdout",
     "output_type": "stream",
     "text": [
      "Enter a number24\n",
      "Enter a number54\n",
      "The HCF of 24 and 54 is 6\n"
     ]
    }
   ],
   "source": [
    "a= int(input('Enter a number'))\n",
    "b= int(input('Enter a number'))\n",
    "if a<b:\n",
    "    lesser=a\n",
    "else:\n",
    "    lesser=b\n",
    "for i in range(1, lesser+1):\n",
    "    if((a%i==0)and (b%i==0)):\n",
    "        HCF=i\n",
    "print(f'The HCF of {a} and {b} is {HCF}')"
   ]
  },
  {
   "cell_type": "markdown",
   "metadata": {
    "id": "ac2vLhM6ZTAm"
   },
   "source": [
    "3. Write a Python Program to Convert Decimal to Binary, Octal and Hexadecimal?"
   ]
  },
  {
   "cell_type": "code",
   "execution_count": 3,
   "metadata": {
    "id": "hd571hUtX4Ty"
   },
   "outputs": [],
   "source": [
    "def conversion():\n",
    "    num= int(input('Enter the decimal value'))\n",
    "    print(f'The conversion of {num} to binary is {bin(num)}')\n",
    "    print(f'The conversion of {num} to Octal is {oct(num)}')\n",
    "    print(f'The conversion of {num} to hexadecimal is {hex(num)}')"
   ]
  },
  {
   "cell_type": "code",
   "execution_count": 4,
   "metadata": {
    "colab": {
     "base_uri": "https://localhost:8080/"
    },
    "id": "wqM9-LCUZxED",
    "outputId": "fba60e99-6582-4e3e-bbc4-6fc1225b6b6d"
   },
   "outputs": [
    {
     "name": "stdout",
     "output_type": "stream",
     "text": [
      "Enter the decimal value23\n",
      "The conversion of 23 to binary is 0b10111\n",
      "The conversion of 23 to Octal is 0o27\n",
      "The conversion of 23 to hexadecimal is 0x17\n"
     ]
    }
   ],
   "source": [
    "conversion()"
   ]
  },
  {
   "cell_type": "markdown",
   "metadata": {
    "id": "HXgkuu82awQl"
   },
   "source": [
    "4.Write a Python Program To Find ASCII value of a character?"
   ]
  },
  {
   "cell_type": "code",
   "execution_count": 5,
   "metadata": {
    "colab": {
     "base_uri": "https://localhost:8080/"
    },
    "id": "B58ik098bRXu",
    "outputId": "16e5e5b8-e7d7-47e7-b627-67e81c94cee2"
   },
   "outputs": [
    {
     "name": "stdout",
     "output_type": "stream",
     "text": [
      " The ASCII value of p is 112\n"
     ]
    }
   ],
   "source": [
    "a='p'\n",
    "print(f\" The ASCII value of {a} is {ord(a)}\")"
   ]
  },
  {
   "cell_type": "markdown",
   "metadata": {
    "id": "2667qrVkekND"
   },
   "source": [
    "5.Write a Python Program to Make a Simple Calculator with 4 basic mathematical operations?"
   ]
  },
  {
   "cell_type": "code",
   "execution_count": 8,
   "metadata": {
    "id": "Rn_ZQlJQuAE9"
   },
   "outputs": [
    {
     "name": "stdout",
     "output_type": "stream",
     "text": [
      "Enter the number 2\n",
      "Enter the number 4\n",
      "Enter + for addition \n",
      " Enter - for Subtraction \n",
      " Enter * for Multipliaction \n",
      " Enter / for Division+\n",
      "2.0+4.0 is 6.0\n"
     ]
    }
   ],
   "source": [
    "num1= float(input(\"Enter the number\"))\n",
    "num2= float(input('Enter the number'))\n",
    "\n",
    "operation= input(\"Enter + for addition \\n Enter - for Subtraction \\n Enter * for Multipliaction \\n Enter / for Division\")\n",
    "\n",
    "add= num1+num2\n",
    "sub= num1-num2\n",
    "mul = num1* num2\n",
    "div= num1/num2\n",
    "if operation == '+':\n",
    "    print(f'{num1}+{num2} is {add}')\n",
    "elif operation== '-':\n",
    "    print(f' {num1}-{num2} is {sub}')\n",
    "elif operation== '*':\n",
    "    print(f' {num1}*{num2} is {mul}')\n",
    "elif operation== '/':\n",
    "    if num1==0 and num2==0:\n",
    "        print('0 is not dividable')\n",
    "    else:\n",
    "        print(f'{num1}/{num2} is {div}')\n",
    "else:\n",
    "    print('Enter the valid input')"
   ]
  },
  {
   "cell_type": "code",
   "execution_count": null,
   "metadata": {},
   "outputs": [],
   "source": []
  },
  {
   "cell_type": "code",
   "execution_count": null,
   "metadata": {},
   "outputs": [],
   "source": []
  }
 ],
 "metadata": {
  "colab": {
   "collapsed_sections": [],
   "name": "Welcome To Colaboratory",
   "provenance": [],
   "toc_visible": true
  },
  "kernelspec": {
   "display_name": "Python 3 (ipykernel)",
   "language": "python",
   "name": "python3"
  },
  "language_info": {
   "codemirror_mode": {
    "name": "ipython",
    "version": 3
   },
   "file_extension": ".py",
   "mimetype": "text/x-python",
   "name": "python",
   "nbconvert_exporter": "python",
   "pygments_lexer": "ipython3",
   "version": "3.9.7"
  }
 },
 "nbformat": 4,
 "nbformat_minor": 1
}
