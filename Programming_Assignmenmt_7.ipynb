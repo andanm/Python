{
 "cells": [
  {
   "cell_type": "markdown",
   "metadata": {
    "id": "Sh8a1zAajW9q"
   },
   "source": [
    "1. Write a Python Program to find sum of Array ?"
   ]
  },
  {
   "cell_type": "code",
   "execution_count": 1,
   "metadata": {
    "colab": {
     "base_uri": "https://localhost:8080/"
    },
    "id": "4IcCKjWguhmY",
    "outputId": "33123cbc-031c-4fbf-ded6-95ebaba88cc8"
   },
   "outputs": [
    {
     "name": "stdout",
     "output_type": "stream",
     "text": [
      "Enter the array 1,2,3,4,5,6,7,8\n",
      "The Sum of (1, 2, 3, 4, 5, 6, 7, 8) is 36\n"
     ]
    }
   ],
   "source": [
    "def Sum_of_Array():\n",
    "    array=eval(input(\"Enter the array\"))\n",
    "    print(f\"The Sum of {array} is {sum(array)}\")\n",
    "Sum_of_Array()"
   ]
  },
  {
   "cell_type": "markdown",
   "metadata": {
    "id": "Ez6CGkplvUHg"
   },
   "source": [
    "2. Write a Python Program to find Largest element in an Array ?"
   ]
  },
  {
   "cell_type": "code",
   "execution_count": 2,
   "metadata": {
    "colab": {
     "base_uri": "https://localhost:8080/"
    },
    "id": "YCwaQSA6vUlz",
    "outputId": "118eebce-4ca7-4106-ca5c-86337f1e4ac9"
   },
   "outputs": [
    {
     "name": "stdout",
     "output_type": "stream",
     "text": [
      "Enter the array 1,234,6,89\n",
      "The largest element in (1, 234, 6, 89) is 234\n"
     ]
    }
   ],
   "source": [
    "def Largest_element():\n",
    "    array= eval(input(\"Enter the array\"))\n",
    "    print(f\"The largest element in {array} is {(sorted(array,reverse=True)[0])}\")\n",
    "Largest_element()"
   ]
  },
  {
   "cell_type": "markdown",
   "metadata": {
    "id": "0TJkelLB1H8X"
   },
   "source": [
    "3. Write a Python Program for array rotation ?"
   ]
  },
  {
   "cell_type": "code",
   "execution_count": 3,
   "metadata": {
    "colab": {
     "base_uri": "https://localhost:8080/"
    },
    "id": "6Hdy_kKV1KoO",
    "outputId": "cd50d7e0-eedf-4aab-90b1-182899447a03"
   },
   "outputs": [
    {
     "name": "stdout",
     "output_type": "stream",
     "text": [
      "Enter the array1,2,3,4,5,6\n",
      "The rotation of (1, 2, 3, 4, 5, 6) is (6, 5, 4, 3, 2, 1)\n"
     ]
    }
   ],
   "source": [
    "def rotation_of_array():\n",
    "    array= eval(input(\"Enter the array\"))\n",
    "    print(f\"The rotation of {array} is {array[::-1]}\")\n",
    "rotation_of_array()"
   ]
  },
  {
   "cell_type": "markdown",
   "metadata": {
    "id": "yf2gPmZC1okZ"
   },
   "source": [
    "4. Write a Python Program to Split the array and add the first part to the end ?"
   ]
  },
  {
   "cell_type": "code",
   "execution_count": 6,
   "metadata": {
    "id": "p4zMu1Uc1qzc"
   },
   "outputs": [
    {
     "name": "stdout",
     "output_type": "stream",
     "text": [
      "Enter an array 1,2,3,4,7,8,9\n",
      "Enter the num to split 2\n",
      "The splited array is (1, 2)\n",
      "The array after spliting and adding the last is (3, 4, 7, 8, 9, 1, 2)\n"
     ]
    }
   ],
   "source": [
    "def split_add():\n",
    "    array= eval(input(\"Enter an array\"))\n",
    "    n= int(input(\"Enter the num to split\"))\n",
    "    split= array[:n]\n",
    "    print(f\"The splited array is {split}\")\n",
    "    add= array[n:]+array[:n]\n",
    "    print(f\"The array after spliting and adding the last is {add}\")\n",
    "split_add()"
   ]
  },
  {
   "cell_type": "markdown",
   "metadata": {
    "id": "lygAFzzs5uOr"
   },
   "source": [
    "5. Write a Python Program to check if given array is Monotonic?\n",
    "An array is said to be monotonic in nature if it is either continuously increasing or continuously decreasing."
   ]
  },
  {
   "cell_type": "code",
   "execution_count": 7,
   "metadata": {
    "colab": {
     "base_uri": "https://localhost:8080/"
    },
    "id": "XPWYqTZi5u84",
    "outputId": "62ffbc2e-9aff-44e1-bd4a-5e6c73b65d7e"
   },
   "outputs": [
    {
     "name": "stdout",
     "output_type": "stream",
     "text": [
      "Enter an array1,3,6,7,9,0\n",
      " The entered (1, 3, 6, 7, 9, 0) is not a Monotonic\n"
     ]
    }
   ],
   "source": [
    "def monotonic():\n",
    "    array=eval(input(\"Enter an array\"))\n",
    "    if all((array[i]<=array[i+1] for i in range(len(array)-1)) or (array[i]>=array[i+1] for i in range(len(array)-1))):\n",
    "        print(f\"The entered {array} is Monotonic\")\n",
    "    else:\n",
    "        print(f\" The entered {array} is not a Monotonic\")\n",
    "\n",
    "monotonic()\n",
    "\n",
    "  \n"
   ]
  },
  {
   "cell_type": "code",
   "execution_count": 53,
   "metadata": {
    "id": "wZRMGk3R7QGV"
   },
   "outputs": [],
   "source": []
  }
 ],
 "metadata": {
  "colab": {
   "collapsed_sections": [],
   "name": "Welcome To Colaboratory",
   "provenance": [],
   "toc_visible": true
  },
  "kernelspec": {
   "display_name": "Python 3 (ipykernel)",
   "language": "python",
   "name": "python3"
  },
  "language_info": {
   "codemirror_mode": {
    "name": "ipython",
    "version": 3
   },
   "file_extension": ".py",
   "mimetype": "text/x-python",
   "name": "python",
   "nbconvert_exporter": "python",
   "pygments_lexer": "ipython3",
   "version": "3.9.7"
  }
 },
 "nbformat": 4,
 "nbformat_minor": 1
}
