{
 "cells": [
  {
   "cell_type": "markdown",
   "metadata": {
    "id": "rVOzo3LjVWXM"
   },
   "source": [
    "1. Write a Python Program to Find the Factorial of a Number?"
   ]
  },
  {
   "cell_type": "code",
   "execution_count": 3,
   "metadata": {
    "id": "PbAXU-OBVgfW"
   },
   "outputs": [],
   "source": [
    "def factorial_number():\n",
    "    n= int(input(\"Enter the Number\"))\n",
    "    fact=1\n",
    "    if n<0:\n",
    "        print(\"Cannot calculate the factorial for negative numbers \")\n",
    "    elif n==0:\n",
    "        print(\"Factorial of 0 is 1\")\n",
    "    else:\n",
    "        for i in range(1,n+1):\n",
    "              fact= fact*i\n",
    "        print(f\"The Factorial of {n} is\",fact)  \n",
    "  "
   ]
  },
  {
   "cell_type": "code",
   "execution_count": 4,
   "metadata": {
    "colab": {
     "base_uri": "https://localhost:8080/"
    },
    "id": "HoaXdnRLWW8F",
    "outputId": "8dc60834-57ae-4856-fa94-4199802b3967"
   },
   "outputs": [
    {
     "name": "stdout",
     "output_type": "stream",
     "text": [
      "Enter the Number 7\n",
      "The Factorial of 7 is 5040\n"
     ]
    }
   ],
   "source": [
    "factorial_number()"
   ]
  },
  {
   "cell_type": "markdown",
   "metadata": {
    "id": "awXQ_PeGXRyW"
   },
   "source": [
    "2. Write a Python Program to Find the Factorial of a Number?"
   ]
  },
  {
   "cell_type": "code",
   "execution_count": 5,
   "metadata": {
    "id": "8Ofkm9sCXVJc"
   },
   "outputs": [],
   "source": [
    "def multiplication_table():\n",
    "    num= int(input(\"Enter the number for the multiplication_table\"))\n",
    "    for i in range(1,num+1):\n",
    "        print(f'{num} X {i} ={num*i}')"
   ]
  },
  {
   "cell_type": "code",
   "execution_count": 6,
   "metadata": {
    "colab": {
     "base_uri": "https://localhost:8080/"
    },
    "id": "jRfl2hKaX7zz",
    "outputId": "4276d2d3-2da7-43eb-c6c1-9a0ac07e0aa0"
   },
   "outputs": [
    {
     "name": "stdout",
     "output_type": "stream",
     "text": [
      "Enter the number for the multiplication_table 10\n",
      "10 X 1 =10\n",
      "10 X 2 =20\n",
      "10 X 3 =30\n",
      "10 X 4 =40\n",
      "10 X 5 =50\n",
      "10 X 6 =60\n",
      "10 X 7 =70\n",
      "10 X 8 =80\n",
      "10 X 9 =90\n",
      "10 X 10 =100\n"
     ]
    }
   ],
   "source": [
    "multiplication_table()"
   ]
  },
  {
   "cell_type": "markdown",
   "metadata": {
    "id": "sdOWSaNfvo2o"
   },
   "source": [
    "3. Write a Python Program to Print the Fibonacci sequence?"
   ]
  },
  {
   "cell_type": "code",
   "execution_count": 1,
   "metadata": {
    "id": "ypfOx7DvX9v4"
   },
   "outputs": [],
   "source": [
    "def fibonacci_seq():\n",
    "    num = int(input(\"Enter the number of term\"))\n",
    "    sequence=[]\n",
    "    a,b = 0,1\n",
    "    count=0\n",
    "    if num<0:\n",
    "        print(\"Enter the positive number\")\n",
    "    elif num==1 :\n",
    "        print(f'The fibonacci_seq is {(a,b)}')\n",
    "    else:\n",
    "        while count<num:\n",
    "            print(a)\n",
    "            c=a+b\n",
    "            a=b\n",
    "            b=c\n",
    "            count+= 1    "
   ]
  },
  {
   "cell_type": "code",
   "execution_count": 2,
   "metadata": {
    "colab": {
     "base_uri": "https://localhost:8080/"
    },
    "id": "YwyJqheHoXOi",
    "outputId": "50ab056d-851b-4017-dc2f-3c5fb39218af"
   },
   "outputs": [
    {
     "name": "stdout",
     "output_type": "stream",
     "text": [
      "Enter the number of term 3\n",
      "0\n",
      "1\n",
      "1\n"
     ]
    }
   ],
   "source": [
    "fibonacci_seq()"
   ]
  },
  {
   "cell_type": "markdown",
   "metadata": {
    "id": "dUV9hAA1vvEt"
   },
   "source": [
    "4. Write a Python Program to Check Armstrong Number?"
   ]
  },
  {
   "cell_type": "code",
   "execution_count": 7,
   "metadata": {
    "id": "7odMcyzqC2_S"
   },
   "outputs": [],
   "source": [
    "def Armstrong():\n",
    "    num= int(input(\"Enter the number\"))\n",
    "    sum=0\n",
    "    temp=num\n",
    "    while temp>0:\n",
    "        digit= temp%10\n",
    "        sum+= digit**3\n",
    "        temp//=10\n",
    "\n",
    "    if num==sum:\n",
    "        print(f\"{num} is armstrong\")\n",
    "    else:\n",
    "        print(f\"{num} is not a armstrong\")"
   ]
  },
  {
   "cell_type": "code",
   "execution_count": 8,
   "metadata": {
    "colab": {
     "base_uri": "https://localhost:8080/"
    },
    "id": "_bBUwvV9DJGj",
    "outputId": "b0d53165-010f-40bc-dcfa-5203c1036a40"
   },
   "outputs": [
    {
     "name": "stdout",
     "output_type": "stream",
     "text": [
      "Enter the number 153\n",
      "153 is armstrong\n"
     ]
    }
   ],
   "source": [
    "Armstrong()"
   ]
  },
  {
   "cell_type": "markdown",
   "metadata": {
    "id": "JjO5Ih0zI2I7"
   },
   "source": [
    "Write a Python Program to Find Armstrong Number in an Interval?"
   ]
  },
  {
   "cell_type": "code",
   "execution_count": 10,
   "metadata": {
    "id": "rCN0h3WEDLYZ"
   },
   "outputs": [
    {
     "name": "stdout",
     "output_type": "stream",
     "text": [
      "Enter the lower limit 1\n",
      "Enter the upper limit 1000\n",
      "1\n",
      "2\n",
      "3\n",
      "4\n",
      "5\n",
      "6\n",
      "7\n",
      "8\n",
      "9\n",
      "153\n",
      "370\n",
      "371\n",
      "407\n"
     ]
    }
   ],
   "source": [
    "Lower= int(input('Enter the lower limit'))\n",
    "Upper= int(input(\"Enter the upper limit\"))\n",
    "for i in range(Lower, Upper+1):\n",
    "    order= len(str(i))\n",
    "    sum=0\n",
    "    temp=i\n",
    "    while(temp>0):\n",
    "        digit= temp%10\n",
    "        sum+= digit**order\n",
    "        temp//=10\n",
    "    if(i==sum):\n",
    "        print(i)\n",
    "    "
   ]
  },
  {
   "cell_type": "code",
   "execution_count": null,
   "metadata": {},
   "outputs": [],
   "source": []
  }
 ],
 "metadata": {
  "colab": {
   "collapsed_sections": [],
   "name": "Welcome To Colaboratory",
   "provenance": [],
   "toc_visible": true
  },
  "kernelspec": {
   "display_name": "Python 3 (ipykernel)",
   "language": "python",
   "name": "python3"
  },
  "language_info": {
   "codemirror_mode": {
    "name": "ipython",
    "version": 3
   },
   "file_extension": ".py",
   "mimetype": "text/x-python",
   "name": "python",
   "nbconvert_exporter": "python",
   "pygments_lexer": "ipython3",
   "version": "3.9.7"
  }
 },
 "nbformat": 4,
 "nbformat_minor": 1
}
