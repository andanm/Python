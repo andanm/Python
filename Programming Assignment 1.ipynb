{
 "cells": [
  {
   "cell_type": "markdown",
   "metadata": {
    "id": "Wk8SDwOb1Ga1"
   },
   "source": [
    "1.Write a Python program to print 'Hello Python' ?"
   ]
  },
  {
   "cell_type": "code",
   "execution_count": 13,
   "metadata": {
    "colab": {
     "base_uri": "https://localhost:8080/"
    },
    "id": "tKZz-Us81JvD",
    "outputId": "5df6b158-a0e2-4e93-b685-c9130597017a"
   },
   "outputs": [
    {
     "name": "stdout",
     "output_type": "stream",
     "text": [
      "Hello Python\n"
     ]
    }
   ],
   "source": [
    "print('Hello Python')"
   ]
  },
  {
   "cell_type": "markdown",
   "metadata": {
    "id": "GD9Vogcm1RuH"
   },
   "source": [
    "2.Write a Python program to do arithmetic operations addition and division ?"
   ]
  },
  {
   "cell_type": "code",
   "execution_count": 43,
   "metadata": {
    "colab": {
     "base_uri": "https://localhost:8080/"
    },
    "id": "SmUDD1eR2gMH",
    "outputId": "76ffd0be-b432-45d3-c44e-78a3f27219ad"
   },
   "outputs": [
    {
     "name": "stdout",
     "output_type": "stream",
     "text": [
      "Enter a number 10\n",
      "Enter a number 20\n",
      "Addition of two number are 30\n"
     ]
    }
   ],
   "source": [
    "#Addition\n",
    "a=int(input(\"Enter a number\"))\n",
    "b=int(input('Enter a number'))\n",
    "c= a + b\n",
    "print (\"Addition of two number are\",c)\n",
    "\n"
   ]
  },
  {
   "cell_type": "code",
   "execution_count": 45,
   "metadata": {
    "colab": {
     "base_uri": "https://localhost:8080/"
    },
    "id": "wFvr9rJS3Lsd",
    "outputId": "4ebb7531-df1c-495b-ffbc-8b2eb089ca63"
   },
   "outputs": [
    {
     "name": "stdout",
     "output_type": "stream",
     "text": [
      "Enter a number 10\n",
      "Enter a number 20\n",
      "Division of two number are 0.5\n"
     ]
    }
   ],
   "source": [
    "#Division\n",
    "a=int(input(\"Enter a number\"))\n",
    "b=int(input('Enter a number'))\n",
    "c= a / b\n",
    "print (\"Division of two number are\",c)"
   ]
  },
  {
   "cell_type": "markdown",
   "metadata": {
    "id": "Eza4zo606k6X"
   },
   "source": [
    "3.Write a Python program to find the area of a triangle ?"
   ]
  },
  {
   "cell_type": "code",
   "execution_count": 46,
   "metadata": {
    "colab": {
     "base_uri": "https://localhost:8080/"
    },
    "id": "BWi-fv2K6n1C",
    "outputId": "45e55c7c-50f8-4623-f74a-1ebb9e518233"
   },
   "outputs": [
    {
     "name": "stdout",
     "output_type": "stream",
     "text": [
      "Height of the Triangle 20\n",
      "Base of the Triange 30\n",
      "Area of Triangle 300.0\n"
     ]
    }
   ],
   "source": [
    "# Area of triange\n",
    "h= int(input(\"Height of the Triangle\"))\n",
    "b= int (input(\"Base of the Triange\"))\n",
    "a= 0.5*h*b\n",
    "print(\"Area of Triangle\",a)"
   ]
  },
  {
   "cell_type": "markdown",
   "metadata": {
    "id": "1DDuQqsc7_4z"
   },
   "source": [
    "4. Write a Python program to swap two variables ?"
   ]
  },
  {
   "cell_type": "code",
   "execution_count": 49,
   "metadata": {
    "colab": {
     "base_uri": "https://localhost:8080/"
    },
    "id": "DLYYfuRi8Bu2",
    "outputId": "fccd4fa5-8c09-4bc3-efde-eb1a6cb12368"
   },
   "outputs": [
    {
     "name": "stdout",
     "output_type": "stream",
     "text": [
      "Enter a number 100\n",
      "Enter a another number 200\n",
      "Before swaping 100 200\n",
      "After swaping 200 100\n"
     ]
    }
   ],
   "source": [
    "#Swaping of Two numbers\n",
    "num1 = int(input('Enter a number'))\n",
    "num2 = int(input(\"Enter a another number\"))\n",
    "\n",
    "def swap(a,b):\n",
    "  temp=a\n",
    "  a=b\n",
    "  b=temp\n",
    "  return a, b\n",
    "print(\"Before swaping\", num1,num2)\n",
    "num1, num2= swap(num1, num2)\n",
    "print( \"After swaping\",num1,num2)"
   ]
  },
  {
   "cell_type": "markdown",
   "metadata": {
    "id": "WfAD4RvTAp-e"
   },
   "source": [
    "5.Write a Python program to generate a random number ?"
   ]
  },
  {
   "cell_type": "code",
   "execution_count": 53,
   "metadata": {
    "colab": {
     "base_uri": "https://localhost:8080/"
    },
    "id": "ISoVmxtCAsKL",
    "outputId": "cb0cdfc7-43aa-4146-9bfb-465360af5931"
   },
   "outputs": [
    {
     "name": "stdout",
     "output_type": "stream",
     "text": [
      "0.5015369469715814\n"
     ]
    }
   ],
   "source": [
    "#Generating Random Number\n",
    "import random\n",
    "n= random.random()\n",
    "print(n)"
   ]
  },
  {
   "cell_type": "code",
   "execution_count": null,
   "metadata": {
    "id": "74YInXjKBfJv"
   },
   "outputs": [],
   "source": []
  }
 ],
 "metadata": {
  "colab": {
   "collapsed_sections": [],
   "name": "Welcome To Colaboratory",
   "provenance": [],
   "toc_visible": true
  },
  "kernelspec": {
   "display_name": "Python 3 (ipykernel)",
   "language": "python",
   "name": "python3"
  },
  "language_info": {
   "codemirror_mode": {
    "name": "ipython",
    "version": 3
   },
   "file_extension": ".py",
   "mimetype": "text/x-python",
   "name": "python",
   "nbconvert_exporter": "python",
   "pygments_lexer": "ipython3",
   "version": "3.9.7"
  }
 },
 "nbformat": 4,
 "nbformat_minor": 1
}
