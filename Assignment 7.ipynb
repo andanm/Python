{
 "cells": [
  {
   "cell_type": "raw",
   "id": "0c0355b5",
   "metadata": {},
   "source": [
    "Answer 1\n",
    "re.compile()\n"
   ]
  },
  {
   "cell_type": "raw",
   "id": "1e776893",
   "metadata": {},
   "source": [
    "Answer 2\n",
    " Raw strings are used since backlashes don't have to be escaped."
   ]
  },
  {
   "cell_type": "code",
   "execution_count": 5,
   "id": "96d173ff",
   "metadata": {},
   "outputs": [],
   "source": [
    "\"\"\"Answer 3\"\"\"\n",
    "import re\n",
    "re.search(\"andan\", 'Ineuron')"
   ]
  },
  {
   "cell_type": "raw",
   "id": "8da197be",
   "metadata": {},
   "source": [
    "Answer 4\n",
    "by using group()"
   ]
  },
  {
   "cell_type": "raw",
   "id": "4b7d5e17",
   "metadata": {},
   "source": [
    "Answer 5\n",
    "In the above statement that is \"(\\d\\d\\d)-(\\d\\d\\d-\\d\\d\\d\\d)\"\n",
    "Group zero covers entire pattern matches.\n",
    "First group covers only \"(\\d\\d\\d)\"\n",
    "whereas second group covers \"(\\d\\d\\d-\\d\\d\\d\\d)\""
   ]
  },
  {
   "cell_type": "raw",
   "id": "69b01d9d",
   "metadata": {},
   "source": [
    "Answer 6\n",
    "By using the escape characters that are \\. ,\\( and \\)"
   ]
  },
  {
   "cell_type": "raw",
   "id": "0e2dee3d",
   "metadata": {},
   "source": [
    "Answer 7\n",
    "If the regex has a group it will return list of tuple.\n",
    "It it doesnot have a group it will return list of strings."
   ]
  },
  {
   "cell_type": "raw",
   "id": "af871144",
   "metadata": {},
   "source": [
    "Answer 8\n",
    "OR operation"
   ]
  },
  {
   "cell_type": "raw",
   "id": "122fd536",
   "metadata": {},
   "source": [
    "Answer 9\n",
    "? represent zero or one of the proceeding group."
   ]
  },
  {
   "cell_type": "raw",
   "id": "287f57e1",
   "metadata": {},
   "source": [
    "Answer 10\n",
    "* represnt zero or more occurances of proceeding group.\n",
    "+ represent one or more occurances of proceeding group."
   ]
  },
  {
   "cell_type": "raw",
   "id": "f9f1f616",
   "metadata": {},
   "source": [
    "Answer 11\n",
    "{4} means its proceeding group has to repeat 4 times.\n",
    "{4,5} means its proceeding group has to repeat min 4 times and max 5 times."
   ]
  },
  {
   "cell_type": "raw",
   "id": "5e33d3ff",
   "metadata": {},
   "source": [
    "Answer 12\n",
    "\\w matches a word character (a-z,A-Z, 0-9)\n",
    "\\d matches a digital character(0-9)\n",
    "\\s matches a whitespace charater (space, Tab, New line)"
   ]
  },
  {
   "cell_type": "raw",
   "id": "0976887c",
   "metadata": {},
   "source": [
    "Answer 13\n",
    "\\W matches a  non-word character (a-z,A-Z, 0-9)\n",
    "\\D matches a non-digital character(0-9)\n",
    "\\S matches a non-whitespace charater (space, Tab, New line)"
   ]
  },
  {
   "cell_type": "raw",
   "id": "0888da62",
   "metadata": {},
   "source": [
    "Answer 14\n",
    ".* is a greedy mode whereas .*? is a non greedy mode\n",
    ".* returns longest string that meets condition where .*? return shortest"
   ]
  },
  {
   "cell_type": "raw",
   "id": "e983a4e8",
   "metadata": {},
   "source": [
    "Answer 15\n",
    "[a-z0-9]"
   ]
  },
  {
   "cell_type": "raw",
   "id": "318e8421",
   "metadata": {},
   "source": [
    "Answer 16\n",
    "BY passing re.IGNORECASE"
   ]
  },
  {
   "cell_type": "raw",
   "id": "9337e75c",
   "metadata": {},
   "source": [
    "Answer 17\n",
    "Dot . character matches everything in input except newline character .. By passing re.DOTALL as a flag to re.compile(), you can make the dot character match all characters, including the newline character."
   ]
  },
  {
   "cell_type": "code",
   "execution_count": 9,
   "id": "ca1b2624",
   "metadata": {},
   "outputs": [
    {
     "data": {
      "text/plain": [
       "'X drummers, X pipers, Five rings, X Hens'"
      ]
     },
     "execution_count": 9,
     "metadata": {},
     "output_type": "execute_result"
    }
   ],
   "source": [
    "\"\"\"Answer 18\"\"\"\n",
    "import re\n",
    "numReg=re.compile(r'\\d+')\n",
    "numReg.sub('X','11 drummers, 10 pipers, Five rings, 4 Hens')"
   ]
  },
  {
   "cell_type": "raw",
   "id": "84aeb6ba",
   "metadata": {},
   "source": [
    "Answer 19\n",
    "re.VERBOSE will allow to add whitespace and comments to strings paased to re.compile"
   ]
  },
  {
   "cell_type": "code",
   "execution_count": 10,
   "id": "b8a6f40a",
   "metadata": {},
   "outputs": [
    {
     "name": "stdout",
     "output_type": "stream",
     "text": [
      "Output: 42 -> <re.Match object; span=(0, 2), match='42'>\n",
      "Output: 1,234 -> <re.Match object; span=(0, 5), match='1,234'>\n",
      "Output: 6,368,745 -> <re.Match object; span=(0, 9), match='6,368,745'>\n",
      "Output: 12,34,567 -> None\n",
      "Output: 1234 -> None\n"
     ]
    }
   ],
   "source": [
    "\"\"\"Answer 20\"\"\"\n",
    "import re\n",
    "pattern = r'^\\d{1,3}(,\\d{3})*$'\n",
    "pagex = re.compile(pattern)\n",
    "for ele in ['42','1,234', '6,368,745','12,34,567','1234']:\n",
    "    print('Output:',ele, '->', pagex.search(ele))"
   ]
  },
  {
   "cell_type": "code",
   "execution_count": 11,
   "id": "31e3086a",
   "metadata": {},
   "outputs": [
    {
     "name": "stdout",
     "output_type": "stream",
     "text": [
      "Output:  Haruto Watanabe -> <re.Match object; span=(0, 15), match='Haruto Watanabe'>\n",
      "Output:  Alice Watanabe -> <re.Match object; span=(0, 14), match='Alice Watanabe'>\n",
      "Output:  RoboCop Watanabe -> <re.Match object; span=(4, 16), match='Cop Watanabe'>\n",
      "Output:  haruto Watanabe -> None\n",
      "Output:  Mr. Watanabe -> None\n",
      "Output:  Watanabe -> None\n",
      "Output:  Haruto watanabe -> None\n"
     ]
    }
   ],
   "source": [
    "\"\"\"Answer 21\"\"\"\n",
    "import re\n",
    "pattern = r'[A-Z]{1}[a-z]*\\sWatanabe'\n",
    "namex = re.compile(pattern)\n",
    "for name in ['Haruto Watanabe','Alice Watanabe','RoboCop Watanabe','haruto Watanabe','Mr. Watanabe','Watanabe','Haruto watanabe']:\n",
    "    print('Output: ',name,'->',namex.search(name))"
   ]
  },
  {
   "cell_type": "code",
   "execution_count": 12,
   "id": "656f106c",
   "metadata": {},
   "outputs": [
    {
     "name": "stdout",
     "output_type": "stream",
     "text": [
      "Output:  Alice eats apples. -> <re.Match object; span=(0, 18), match='Alice eats apples.'>\n",
      "Output:  Bob pets cats. -> <re.Match object; span=(0, 14), match='Bob pets cats.'>\n",
      "Output:  Carol throws baseballs. -> <re.Match object; span=(0, 23), match='Carol throws baseballs.'>\n",
      "Output:  Alice throws Apples. -> <re.Match object; span=(0, 20), match='Alice throws Apples.'>\n",
      "Output:  BOB EATS CATS. -> <re.Match object; span=(0, 14), match='BOB EATS CATS.'>\n",
      "Output:  RoboCop eats apples. -> None\n",
      "Output:  ALICE THROWS FOOTBALLS. -> None\n",
      "Output:  Carol eats 7 cats. -> None\n"
     ]
    }
   ],
   "source": [
    "\"\"\"Answer 22\"\"\"\n",
    "import re\n",
    "pattern = r'(Alice|Bob|Carol)\\s(eats|pets|throws)\\s(apples|cats|baseballs)\\.'\n",
    "casex = re.compile(pattern,re.IGNORECASE)\n",
    "for ele in ['Alice eats apples.','Bob pets cats.','Carol throws baseballs.','Alice throws Apples.','BOB EATS CATS.','RoboCop eats apples.'\n",
    ",'ALICE THROWS FOOTBALLS.','Carol eats 7 cats.']:\n",
    "    print('Output: ',ele,'->',casex.search(ele))"
   ]
  },
  {
   "cell_type": "code",
   "execution_count": null,
   "id": "ac64bdbf",
   "metadata": {},
   "outputs": [],
   "source": []
  }
 ],
 "metadata": {
  "kernelspec": {
   "display_name": "Python 3 (ipykernel)",
   "language": "python",
   "name": "python3"
  },
  "language_info": {
   "codemirror_mode": {
    "name": "ipython",
    "version": 3
   },
   "file_extension": ".py",
   "mimetype": "text/x-python",
   "name": "python",
   "nbconvert_exporter": "python",
   "pygments_lexer": "ipython3",
   "version": "3.9.7"
  }
 },
 "nbformat": 4,
 "nbformat_minor": 5
}
